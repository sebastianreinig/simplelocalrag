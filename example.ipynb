{
 "cells": [
  {
   "cell_type": "markdown",
   "metadata": {},
   "source": [
    "# Install Requirements if needed or skip"
   ]
  },
  {
   "cell_type": "code",
   "execution_count": null,
   "metadata": {},
   "outputs": [],
   "source": [
    "pip install llama-index llama-index-llms-ollama llama-index-embeddings-ollama chromadb pdfplumber requests"
   ]
  },
  {
   "cell_type": "markdown",
   "metadata": {},
   "source": [
    "# Example local rag with llama_index and ollama"
   ]
  },
  {
   "cell_type": "code",
   "execution_count": null,
   "metadata": {},
   "outputs": [],
   "source": [
    "from llama_index.core import SimpleDirectoryReader, VectorStoreIndex\n",
    "from llama_index.core import Settings\n",
    "from llama_index.embeddings.ollama import OllamaEmbedding\n",
    "from llama_index.llms.ollama import Ollama\n",
    "from llama_index.core.node_parser import SentenceSplitter\n",
    "\n",
    "# 1) PDF laden\n",
    "reader = SimpleDirectoryReader(input_files=[\"./test.pdf\"])\n",
    "docs = reader.load_data()\n",
    "\n",
    "# 2) Embedding- und LLM-Modelle definieren (Ollama)\n",
    "ollama_embedding = OllamaEmbedding(\n",
    "    model_name=\"mxbai-embed-large\",\n",
    "    base_url=\"http://localhost:11434\",\n",
    "    ollama_additional_kwargs={\"mirostat\": 0},\n",
    ")\n",
    "llm = Ollama(model=\"llama3.2\", request_timeout=120.0)            # Text-Generierung\n",
    "\n",
    "# 3) Settings setzen (Embedding + LLM)\n",
    "Settings.llm = llm\n",
    "Settings.embed_model = ollama_embedding\n",
    "Settings.node_parser = SentenceSplitter(chunk_size=512, chunk_overlap=20)\n",
    "Settings.num_output = 512\n",
    "Settings.context_window = 3900\n",
    "\n",
    "\n",
    "# 5) Index erstellen\n",
    "index = VectorStoreIndex.from_documents(docs)\n",
    "\n",
    "# 6) Frage stellen\n",
    "qe = index.as_query_engine()\n",
    "frage = input(\"Gib deine Frage ein: \")\n",
    "response = qe.query(frage)\n",
    "print(response)\n"
   ]
  }
 ],
 "metadata": {
  "kernelspec": {
   "display_name": "Python 3",
   "language": "python",
   "name": "python3"
  },
  "language_info": {
   "codemirror_mode": {
    "name": "ipython",
    "version": 3
   },
   "file_extension": ".py",
   "mimetype": "text/x-python",
   "name": "python",
   "nbconvert_exporter": "python",
   "pygments_lexer": "ipython3",
   "version": "3.12.6"
  }
 },
 "nbformat": 4,
 "nbformat_minor": 2
}
