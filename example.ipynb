{
 "cells": [
  {
   "cell_type": "markdown",
   "metadata": {},
   "source": [
    "# Install Requirements if needed or skip"
   ]
  },
  {
   "cell_type": "code",
   "execution_count": null,
   "metadata": {},
   "outputs": [],
   "source": [
    "pip install llama-index llama-index-llms-ollama llama-index-embeddings-ollama chromadb pdfplumber requests"
   ]
  },
  {
   "cell_type": "markdown",
   "metadata": {},
   "source": [
    "# Example local rag with llama_index and ollama"
   ]
  },
  {
   "cell_type": "code",
   "execution_count": null,
   "metadata": {},
   "outputs": [],
   "source": [
    "from llama_index.core import SimpleDirectoryReader, VectorStoreIndex\n",
    "from llama_index.core import Settings\n",
    "from llama_index.embeddings.ollama import OllamaEmbedding\n",
    "from llama_index.llms.ollama import Ollama\n",
    "from llama_index.core.node_parser import SentenceSplitter\n",
    "\n",
    "# 1) PDF laden\n",
    "docs = SimpleDirectoryReader(input_files=[\"./test.pdf\"]).load_data()\n",
    "\n",
    "# 2) Embedding- und LLM-Modelle definieren (Ollama)\n",
    "\n",
    "Settings.llm = Ollama(model=\"llama3.2\", request_timeout=120.0)\n",
    "Settings.embed_model =  OllamaEmbedding(\n",
    "    model_name=\"mxbai-embed-large\",\n",
    "    base_url=\"http://localhost:11434\"\n",
    ")\n",
    "\n",
    "# 3) Index erstellen\n",
    "index = VectorStoreIndex.from_documents(docs)\n",
    "qe = index.as_query_engine()\n",
    "\n",
    "# 4) Frage stellen\n",
    "frage = input(\"Gib deine Frage ein: \")\n",
    "response = qe.query(frage)\n",
    "print(response)\n"
   ]
  }
 ],
 "metadata": {
  "kernelspec": {
   "display_name": "Python 3",
   "language": "python",
   "name": "python3"
  },
  "language_info": {
   "codemirror_mode": {
    "name": "ipython",
    "version": 3
   },
   "file_extension": ".py",
   "mimetype": "text/x-python",
   "name": "python",
   "nbconvert_exporter": "python",
   "pygments_lexer": "ipython3",
   "version": "3.12.6"
  }
 },
 "nbformat": 4,
 "nbformat_minor": 2
}
